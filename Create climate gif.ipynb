{
 "cells": [
  {
   "cell_type": "code",
   "execution_count": 1,
   "metadata": {},
   "outputs": [
    {
     "name": "stdout",
     "output_type": "stream",
     "text": [
      "   year   gistemp  hadcrut4      ncdc  cowtanandway  berkeley  model_mean  \\\n",
      "0  1880 -0.516905 -0.406484 -0.460254     -0.473833 -0.586254   -0.372227   \n",
      "1  1881 -0.431071 -0.385234 -0.413013     -0.417500 -0.495671   -0.354215   \n",
      "2  1882 -0.417738 -0.394984 -0.412096     -0.470000 -0.534337   -0.351653   \n",
      "3  1883 -0.526071 -0.475317 -0.487329     -0.524083 -0.607837   -0.401751   \n",
      "4  1884 -0.596071 -0.589401 -0.549071     -0.684667 -0.761004   -0.643350   \n",
      "\n",
      "   model_sd  model_p2  model_p98  high_model  low_model  med_high_model  \\\n",
      "0  0.186660 -0.757706  -0.066128    0.001092  -0.745546       -0.185567   \n",
      "1  0.169575 -0.670132  -0.040724   -0.015065  -0.693366       -0.184640   \n",
      "2  0.183873 -0.650893   0.009126    0.016093  -0.719399       -0.167780   \n",
      "3  0.178052 -0.752952  -0.024888   -0.045647  -0.757856       -0.223699   \n",
      "4  0.255575 -1.112845  -0.170002   -0.132200  -1.154500       -0.387775   \n",
      "\n",
      "   med_low_model  \n",
      "0      -0.558887  \n",
      "1      -0.523790  \n",
      "2      -0.535526  \n",
      "3      -0.579804  \n",
      "4      -0.898925  \n"
     ]
    }
   ],
   "source": [
    "import numpy as np\n",
    "import pandas as pd\n",
    "import pylab as plt\n",
    "from matplotlib.animation import FuncAnimation\n",
    "\n",
    "fig, ax = plt.subplots()\n",
    "fig.set_tight_layout(True)\n",
    "\n",
    "data = pd.read_csv('/Users/hausfath/Desktop/Climate Science/GHCN Monthly/model_obs_annual.csv')\n",
    "print(data.head())\n",
    "\n",
    "#Plot data that persists (isn't redrawn)\n",
    "plt.xlim(data['year'].min(),data['year'].max())\n",
    "plt.plot(data['year'], data['model_mean'], 'r-', label='Multimodel Mean')\n",
    "plt.fill_between(data['year'], data['high_model'], data['low_model'], color='k',alpha=.2)\n",
    "plt.plot(data['year'][0], data['berkeley'][0], 'b-', label='Berkeley Earth')\n",
    "leg=plt.legend(loc='upper left', numpoints=1, fancybox=True)\n",
    "plt.ylabel('Degrees C w.r.t. 1979-2000') \n",
    "\n",
    "def update(i):\n",
    "    #Plot data that is redrawn\n",
    "    plt.plot(data['year'][0:i], data['berkeley'][0:i], 'b-', label='Berkeley Earth')\n",
    "    return plt\n",
    "\n",
    "if __name__ == '__main__':\n",
    "    # FuncAnimation will call the 'update' function for each frame\n",
    "    anim = FuncAnimation(fig, update, frames=np.arange(data['year'].count()), interval=100)\n",
    "    anim.save('line.gif', dpi=100, writer='imagemagick')\n",
    "    #plt.show()\n",
    "\n"
   ]
  },
  {
   "cell_type": "code",
   "execution_count": null,
   "metadata": {},
   "outputs": [],
   "source": []
  }
 ],
 "metadata": {
  "kernelspec": {
   "display_name": "Python 3",
   "language": "python",
   "name": "python3"
  },
  "language_info": {
   "codemirror_mode": {
    "name": "ipython",
    "version": 3
   },
   "file_extension": ".py",
   "mimetype": "text/x-python",
   "name": "python",
   "nbconvert_exporter": "python",
   "pygments_lexer": "ipython3",
   "version": "3.7.6"
  }
 },
 "nbformat": 4,
 "nbformat_minor": 2
}
