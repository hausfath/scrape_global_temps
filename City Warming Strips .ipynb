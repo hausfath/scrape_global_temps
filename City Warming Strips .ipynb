{
 "cells": [
  {
   "cell_type": "code",
   "execution_count": 32,
   "metadata": {},
   "outputs": [],
   "source": [
    "#!/usr/local/bin/python3.7\n",
    "\n",
    "import matplotlib.pyplot as plt\n",
    "import numpy as np\n",
    "import pandas as pd\n",
    "import numpy_indexed as npi\n",
    "import os, netCDF4, time\n",
    "from matplotlib.colors import Normalize\n",
    "\n",
    "#os.chdir('/Users/hausfath/Desktop/Climate Science/GHCN Monthly/')\n",
    "\n",
    "berkeley_file = 'Complete_TAVG_LatLong1.nc'"
   ]
  },
  {
   "cell_type": "code",
   "execution_count": 207,
   "metadata": {},
   "outputs": [
    {
     "name": "stderr",
     "output_type": "stream",
     "text": [
      "/usr/local/lib/python3.7/site-packages/ipykernel_launcher.py:5: UserWarning: WARNING: valid_min not used since it\n",
      "cannot be safely cast to variable data type\n",
      "  \"\"\"\n",
      "/usr/local/lib/python3.7/site-packages/ipykernel_launcher.py:5: UserWarning: WARNING: valid_max not used since it\n",
      "cannot be safely cast to variable data type\n",
      "  \"\"\"\n"
     ]
    }
   ],
   "source": [
    "def import_berkeley(filename, verbose = False):\n",
    "    nc = netCDF4.Dataset(filename, 'r')\n",
    "    lats = nc.variables['latitude'][:]\n",
    "    lons = nc.variables['longitude'][:]\n",
    "    temps = nc.variables['temperature'][:,:,:]\n",
    "    times = nc.variables['time'][:]\n",
    "    years = times.astype(int)\n",
    "    return {\n",
    "        'lats' : lats,\n",
    "        'lons' : lons,\n",
    "        'temps' : temps,\n",
    "        'times' : times,\n",
    "        'years' : years\n",
    "    }\n",
    "\n",
    "\n",
    "def local_timeseries(data, local_lat, local_lon):\n",
    "    near_lat = find_nearest(data['lats'], local_lat)\n",
    "    near_lon = find_nearest(data['lons'], local_lon)\n",
    "    near_lat_pos = np.where(data['lats'] == near_lat)[0][0]\n",
    "    near_lon_pos = np.where(data['lons'] == near_lon)[0][0]\n",
    "    try:\n",
    "        anoms = np.swapaxes(data['anoms'],0,2)\n",
    "        anoms = np.swapaxes(anoms,0,1)\n",
    "    except:\n",
    "        anoms = np.swapaxes(data['temps'],0,2)\n",
    "        anoms = np.swapaxes(anoms,0,1)\n",
    "    return anoms[near_lat_pos][near_lon_pos]\n",
    "\n",
    "\n",
    "def find_nearest(array, value):\n",
    "    idx = (np.abs(array - value)).argmin()\n",
    "    return array[idx]\n",
    "\n",
    "\n",
    "def berkeley_local_annual(filename, local_lat, local_lon, data):\n",
    "    local_data = local_timeseries(data, local_lat, local_lon)\n",
    "    unique, mean = npi.group_by(data['years']).mean(local_data)\n",
    "    df = pd.DataFrame({'years' : unique,\n",
    "                       'temps' : mean})\n",
    "    return df\n",
    "\n",
    "#results = berkeley_local_annual(berkeley_file, doha_lat, doha_lon)\n",
    "\n",
    "data = import_berkeley(berkeley_file)\n"
   ]
  },
  {
   "cell_type": "code",
   "execution_count": 206,
   "metadata": {},
   "outputs": [
    {
     "name": "stdout",
     "output_type": "stream",
     "text": [
      "138 189\n"
     ]
    },
    {
     "data": {
      "image/png": "[encoded data removed]",
      "text/plain": [
       "<Figure size 432x216 with 1 Axes>"
      ]
     },
     "metadata": {
      "needs_background": "light"
     },
     "output_type": "display_data"
    }
   ],
   "source": [
    "#Name of CSV file containing the data (one column only)\n",
    "\n",
    "savename = 'Stuttgart'\n",
    "\n",
    "lat = 48.7758\n",
    "lon = 9.1829\n",
    "\n",
    "results = berkeley_local_annual(berkeley_file, lat, lon, data)\n",
    "\n",
    "year_loc = np.where((results['years'] >= 1750) & (results['years'] <= 2018))[0]\n",
    "temps = results['temps'][year_loc] \n",
    "#np.genfromtxt(temp_data, delimiter=\",\")[1:]\n",
    "temps_normed = ((temps - temps.min(0)) / temps.ptp(0)) * (len(temps) - 1)\n",
    "elements = len(temps)\n",
    "\n",
    "x_lbls = np.arange(elements)\n",
    "y_vals = temps_normed / (len(temps) - 1)\n",
    "y_vals2 = np.full(elements, 1)\n",
    "bar_wd  = 1\n",
    "\n",
    "my_cmap = plt.cm.RdBu_r #choose colormap to use for bars\n",
    "norm = Normalize(vmin=0, vmax=elements - 1)\n",
    "\n",
    "def colorval(num):\n",
    "    return my_cmap(norm(num))\n",
    "\n",
    "fig=plt.figure(figsize=(6,3))\n",
    "plt.axis('off')\n",
    "plt.axis('tight')\n",
    "\n",
    "#Plot warming stripes. Change y_vals2 to y_vals to plot stripes under the line only.\n",
    "plt.bar(x_lbls, y_vals2, color = list(map(colorval, temps_normed)), width=1.0, edgecolor = \"none\")\n",
    "\n",
    "#Plot temperature timeseries. Comment out to only plot stripes\n",
    "#plt.plot((x_lbls + 0.5), y_vals - 0.002, color='black', linewidth=2)\n",
    "\n",
    "plt.xticks( x_lbls + bar_wd, x_lbls)\n",
    "plt.ylim(0, 1)\n",
    "fig.subplots_adjust(bottom = 0)\n",
    "fig.subplots_adjust(top = 1)\n",
    "fig.subplots_adjust(right = 1)\n",
    "fig.subplots_adjust(left = 0)\n",
    "fig.savefig(savename+'.png', dpi=300)\n"
   ]
  },
  {
   "cell_type": "code",
   "execution_count": null,
   "metadata": {},
   "outputs": [],
   "source": []
  }
 ],
 "metadata": {
  "kernelspec": {
   "display_name": "Python 3",
   "language": "python",
   "name": "python3"
  },
  "language_info": {
   "codemirror_mode": {
    "name": "ipython",
    "version": 3
   },
   "file_extension": ".py",
   "mimetype": "text/x-python",
   "name": "python",
   "nbconvert_exporter": "python",
   "pygments_lexer": "ipython3",
   "version": "3.7.0"
  }
 },
 "nbformat": 4,
 "nbformat_minor": 2
}
